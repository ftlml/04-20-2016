{
 "cells": [
  {
   "cell_type": "markdown",
   "metadata": {},
   "source": [
    "# Introduction to Google's TensorFlow\n",
    "\n",
    "This Jupyter notebook contains a set of examples as part of a presentation to help developers get a feel for using the TensorFlow client interface.\n",
    "\n",
    "## Hello World!\n",
    "\n",
    "In good fashion we will start our hands lab by creating a TensorFlow graph with a single node that produces the constant _Hello, TensorFlow!_."
   ]
  },
  {
   "cell_type": "code",
   "execution_count": null,
   "metadata": {
    "collapsed": false
   },
   "outputs": [],
   "source": [
    "import tensorflow as tf\n",
    "\n",
    "with tf.Session() as session:\n",
    "    print session.run(tf.constant('Hello, TensorFlow!'))"
   ]
  },
  {
   "cell_type": "markdown",
   "metadata": {},
   "source": [
    "## Getting Started with Variables and Operations\n",
    "\n",
    "In TensorFlow Variables are used to maintain state across executions of the graph. Variables are not initialized when they are defined so we must be careful to tell TensorFlow to initialize all the Variables before we attempt to use them. Below is an example countdown latch."
   ]
  },
  {
   "cell_type": "code",
   "execution_count": null,
   "metadata": {
    "collapsed": false
   },
   "outputs": [],
   "source": [
    "# Define our latch.\n",
    "latch = tf.Variable(10, name = 'latch')\n",
    "\n",
    "# Define a constant by which we decrement our latch.\n",
    "one = tf.constant(1)\n",
    "\n",
    "# Apply a subtraction operation.\n",
    "new_value = tf.sub(latch, one)\n",
    "\n",
    "# Update the state of our latch.\n",
    "update = tf.assign(latch, new_value)\n",
    "\n",
    "# IMPORTANT to run before using Variables.\n",
    "init_op = tf.initialize_all_variables()\n",
    "\n",
    "# Execute our graph.\n",
    "with tf.Session() as session:\n",
    "    session.run(init_op)\n",
    "    for _ in range(10):\n",
    "        session.run(update)\n",
    "        print session.run(latch)\n",
    "        \n",
    "    "
   ]
  },
  {
   "cell_type": "markdown",
   "metadata": {},
   "source": [
    "## Feeding Tensors into a Graph\n",
    "\n",
    "So far we have provided tensors into the graph by either using constants or variables but TensorFlow provides a feed mechanism for patching tensors directly into any operation."
   ]
  },
  {
   "cell_type": "code",
   "execution_count": null,
   "metadata": {
    "collapsed": false
   },
   "outputs": [],
   "source": [
    "a = tf.placeholder(tf.float32)\n",
    "b = tf.placeholder(tf.float32)\n",
    "output = tf.mul(a, b)\n",
    "\n",
    "with tf.Session() as session:\n",
    "  print(session.run([output], feed_dict={a: [5.], b: [5.]}))"
   ]
  },
  {
   "cell_type": "markdown",
   "metadata": {},
   "source": [
    "## Fetching Tensors from a Graph\n",
    "\n",
    "In the previous example we fetched a single tensor but it is also possible to fetch multiple tensors by specifying them in the run method."
   ]
  },
  {
   "cell_type": "code",
   "execution_count": null,
   "metadata": {
    "collapsed": false
   },
   "outputs": [],
   "source": [
    "a = tf.constant(1)\n",
    "b = tf.constant(2)\n",
    "\n",
    "add = tf.add(a, b)\n",
    "mul = tf.mul(a, b)\n",
    "\n",
    "with tf.Session() as session:\n",
    "  print(session.run([add, mul]))"
   ]
  },
  {
   "cell_type": "markdown",
   "metadata": {},
   "source": [
    "## Choosing a Device\n",
    "\n",
    "TensorFlow allows us to distribute our graph across many devices seemlessly but there are some cases where we need to help. If your device has a GPU installed TensorFlow will automatically use your GPU for as many  operations as possible. If your device has more than one GPU installed you have to explicitly tell TensorFlow how to distribute operations across the GPUs.\n",
    "\n",
    "Since we don't have any guarantees that TensorFlow will be running on a device with a GPU installed the example below will use CPU cores instead to demonstrate how to chose a device on which to execute operations."
   ]
  },
  {
   "cell_type": "code",
   "execution_count": null,
   "metadata": {
    "collapsed": false
   },
   "outputs": [],
   "source": [
    "# with tf.device(\"/gpu:0\"): This would use the first GPU on the sysytem.\n",
    "# with tf.device(\"/gpu:1\"): This would use the second GPU on the system.\n",
    "with tf.device('/cpu:0'):\n",
    "    M = tf.constant([[2., 3.]])\n",
    "    N = tf.constant([[4.],[5.]])\n",
    "    product = tf.matmul(M, N)\n",
    "    \n",
    "with tf.Session() as session:\n",
    "    print(session.run(product))"
   ]
  },
  {
   "cell_type": "markdown",
   "metadata": {},
   "source": [
    "## Machine Learning with TensorFlow\n",
    "\n",
    "In order to bring it all together below is an implementation of the nearest neighbor algorithm using TensorFlow"
   ]
  },
  {
   "cell_type": "code",
   "execution_count": null,
   "metadata": {
    "collapsed": false
   },
   "outputs": [],
   "source": [
    "import input_data\n",
    "import numpy as np\n",
    "\n",
    "# Import mnist data.\n",
    "mnist = input_data.read_data_sets('/tmp/mnist/', one_hot = True)\n",
    "train_x, train_y = mnist.train.next_batch(10000)\n",
    "test_x, test_y = mnist.test.next_batch(100)\n",
    "\n",
    "# Squash the input images into vectors.\n",
    "train_x = np.reshape(train_x, newshape = (-1, 28 * 28))\n",
    "test_x = np.reshape(test_x, newshape = (-1, 28 * 28))\n",
    "\n",
    "# Build the graph.\n",
    "neighbors = tf.placeholder('float', [None, 784])\n",
    "x = tf.placeholder('float', [784])\n",
    "distance = tf.reduce_sum(tf.abs(tf.add(neighbors, tf.neg(x))), reduction_indices = 1) # Calculate Manhattan Distance\n",
    "prediction = tf.arg_min(distance, 0) # Get the Nearest neighbor\n",
    "\n",
    "# Initializing the variables\n",
    "init = tf.initialize_all_variables()\n",
    "\n",
    "# Launch the graph\n",
    "with tf.Session() as session:\n",
    "    session.run(init)\n",
    "    \n",
    "    # loop over test data\n",
    "    accuracy = 0.\n",
    "    for i in range(len(test_x)):\n",
    "        # Get nearest neighbor\n",
    "        nn = session.run(prediction, feed_dict={ neighbors: train_x, x: test_x[i,:] })\n",
    "        # Get nearest neighbor class label and compare it to the target label\n",
    "        print 'Prediction:', np.argmax(train_y[nn]), 'Target:', np.argmax(test_y[i])\n",
    "        # Calculate accuracy\n",
    "        if np.argmax(train_y[nn]) == np.argmax(test_y[i]):\n",
    "            accuracy += 1. / len(test_x)\n",
    "    print 'Accuracy:', accuracy"
   ]
  },
  {
   "cell_type": "code",
   "execution_count": null,
   "metadata": {
    "collapsed": true
   },
   "outputs": [],
   "source": []
  }
 ],
 "metadata": {
  "kernelspec": {
   "display_name": "Python 2",
   "language": "python",
   "name": "python2"
  },
  "language_info": {
   "codemirror_mode": {
    "name": "ipython",
    "version": 2
   },
   "file_extension": ".py",
   "mimetype": "text/x-python",
   "name": "python",
   "nbconvert_exporter": "python",
   "pygments_lexer": "ipython2",
   "version": "2.7.6"
  }
 },
 "nbformat": 4,
 "nbformat_minor": 0
}
